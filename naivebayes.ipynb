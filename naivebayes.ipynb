{
 "cells": [
  {
   "cell_type": "code",
   "execution_count": 1,
   "id": "d1191d13",
   "metadata": {},
   "outputs": [
    {
     "name": "stdout",
     "output_type": "stream",
     "text": [
      "Looking in indexes: https://pypi.org/simple, https://pip.repos.neuron.amazonaws.com\n",
      "Requirement already satisfied: pip in /home/ec2-user/anaconda3/envs/amazonei_tensorflow2_p36/lib/python3.6/site-packages (21.3.1)\n"
     ]
    }
   ],
   "source": [
    "!pip install --upgrade pip"
   ]
  },
  {
   "cell_type": "code",
   "execution_count": 2,
   "id": "4192aa1f",
   "metadata": {},
   "outputs": [
    {
     "name": "stdout",
     "output_type": "stream",
     "text": [
      "Looking in indexes: https://pypi.org/simple, https://pip.repos.neuron.amazonaws.com\n",
      "Requirement already satisfied: librosa in /home/ec2-user/anaconda3/envs/amazonei_tensorflow2_p36/lib/python3.6/site-packages (0.9.2)\n",
      "Requirement already satisfied: numpy>=1.17.0 in /home/ec2-user/anaconda3/envs/amazonei_tensorflow2_p36/lib/python3.6/site-packages (from librosa) (1.19.5)\n",
      "Requirement already satisfied: decorator>=4.0.10 in /home/ec2-user/anaconda3/envs/amazonei_tensorflow2_p36/lib/python3.6/site-packages (from librosa) (4.4.2)\n",
      "Requirement already satisfied: pooch>=1.0 in /home/ec2-user/anaconda3/envs/amazonei_tensorflow2_p36/lib/python3.6/site-packages (from librosa) (1.6.0)\n",
      "Requirement already satisfied: scipy>=1.2.0 in /home/ec2-user/anaconda3/envs/amazonei_tensorflow2_p36/lib/python3.6/site-packages (from librosa) (1.5.3)\n",
      "Requirement already satisfied: scikit-learn>=0.19.1 in /home/ec2-user/anaconda3/envs/amazonei_tensorflow2_p36/lib/python3.6/site-packages (from librosa) (0.24.1)\n",
      "Requirement already satisfied: resampy>=0.2.2 in /home/ec2-user/anaconda3/envs/amazonei_tensorflow2_p36/lib/python3.6/site-packages (from librosa) (0.3.1)\n",
      "Requirement already satisfied: packaging>=20.0 in /home/ec2-user/anaconda3/envs/amazonei_tensorflow2_p36/lib/python3.6/site-packages (from librosa) (21.3)\n",
      "Requirement already satisfied: joblib>=0.14 in /home/ec2-user/anaconda3/envs/amazonei_tensorflow2_p36/lib/python3.6/site-packages (from librosa) (1.0.1)\n",
      "Requirement already satisfied: numba>=0.45.1 in /home/ec2-user/anaconda3/envs/amazonei_tensorflow2_p36/lib/python3.6/site-packages (from librosa) (0.52.0)\n",
      "Requirement already satisfied: audioread>=2.1.9 in /home/ec2-user/anaconda3/envs/amazonei_tensorflow2_p36/lib/python3.6/site-packages (from librosa) (3.0.0)\n",
      "Requirement already satisfied: soundfile>=0.10.2 in /home/ec2-user/anaconda3/envs/amazonei_tensorflow2_p36/lib/python3.6/site-packages (from librosa) (0.11.0)\n",
      "Requirement already satisfied: setuptools in /home/ec2-user/anaconda3/envs/amazonei_tensorflow2_p36/lib/python3.6/site-packages (from numba>=0.45.1->librosa) (49.6.0.post20210108)\n",
      "Requirement already satisfied: llvmlite<0.36,>=0.35.0 in /home/ec2-user/anaconda3/envs/amazonei_tensorflow2_p36/lib/python3.6/site-packages (from numba>=0.45.1->librosa) (0.35.0)\n",
      "Requirement already satisfied: pyparsing!=3.0.5,>=2.0.2 in /home/ec2-user/anaconda3/envs/amazonei_tensorflow2_p36/lib/python3.6/site-packages (from packaging>=20.0->librosa) (2.4.7)\n",
      "Requirement already satisfied: requests>=2.19.0 in /home/ec2-user/anaconda3/envs/amazonei_tensorflow2_p36/lib/python3.6/site-packages (from pooch>=1.0->librosa) (2.27.1)\n",
      "Requirement already satisfied: appdirs>=1.3.0 in /home/ec2-user/anaconda3/envs/amazonei_tensorflow2_p36/lib/python3.6/site-packages (from pooch>=1.0->librosa) (1.4.4)\n",
      "Requirement already satisfied: threadpoolctl>=2.0.0 in /home/ec2-user/anaconda3/envs/amazonei_tensorflow2_p36/lib/python3.6/site-packages (from scikit-learn>=0.19.1->librosa) (2.1.0)\n",
      "Requirement already satisfied: cffi>=1.0 in /home/ec2-user/anaconda3/envs/amazonei_tensorflow2_p36/lib/python3.6/site-packages (from soundfile>=0.10.2->librosa) (1.14.5)\n",
      "Requirement already satisfied: pycparser in /home/ec2-user/anaconda3/envs/amazonei_tensorflow2_p36/lib/python3.6/site-packages (from cffi>=1.0->soundfile>=0.10.2->librosa) (2.20)\n",
      "Requirement already satisfied: urllib3<1.27,>=1.21.1 in /home/ec2-user/anaconda3/envs/amazonei_tensorflow2_p36/lib/python3.6/site-packages (from requests>=2.19.0->pooch>=1.0->librosa) (1.26.8)\n",
      "Requirement already satisfied: certifi>=2017.4.17 in /home/ec2-user/anaconda3/envs/amazonei_tensorflow2_p36/lib/python3.6/site-packages (from requests>=2.19.0->pooch>=1.0->librosa) (2021.5.30)\n",
      "Requirement already satisfied: idna<4,>=2.5 in /home/ec2-user/anaconda3/envs/amazonei_tensorflow2_p36/lib/python3.6/site-packages (from requests>=2.19.0->pooch>=1.0->librosa) (3.1)\n",
      "Requirement already satisfied: charset-normalizer~=2.0.0 in /home/ec2-user/anaconda3/envs/amazonei_tensorflow2_p36/lib/python3.6/site-packages (from requests>=2.19.0->pooch>=1.0->librosa) (2.0.12)\n"
     ]
    }
   ],
   "source": [
    "!pip install librosa"
   ]
  },
  {
   "cell_type": "code",
   "execution_count": 3,
   "id": "c8736551",
   "metadata": {},
   "outputs": [
    {
     "name": "stdout",
     "output_type": "stream",
     "text": [
      "Looking in indexes: https://pypi.org/simple, https://pip.repos.neuron.amazonaws.com\n",
      "Requirement already satisfied: pydub in /home/ec2-user/anaconda3/envs/amazonei_tensorflow2_p36/lib/python3.6/site-packages (0.25.1)\n"
     ]
    }
   ],
   "source": [
    "!pip install pydub"
   ]
  },
  {
   "cell_type": "code",
   "execution_count": 4,
   "id": "435a842c",
   "metadata": {},
   "outputs": [
    {
     "name": "stdout",
     "output_type": "stream",
     "text": [
      "Looking in indexes: https://pypi.org/simple, https://pip.repos.neuron.amazonaws.com\n",
      "Requirement already satisfied: ffmpeg in /home/ec2-user/anaconda3/envs/amazonei_tensorflow2_p36/lib/python3.6/site-packages (1.4)\n"
     ]
    }
   ],
   "source": [
    "!pip install ffmpeg"
   ]
  },
  {
   "cell_type": "code",
   "execution_count": 5,
   "id": "e6b24663",
   "metadata": {},
   "outputs": [
    {
     "name": "stderr",
     "output_type": "stream",
     "text": [
      "/home/ec2-user/anaconda3/envs/amazonei_tensorflow2_p36/lib/python3.6/site-packages/pydub/utils.py:170: RuntimeWarning: Couldn't find ffmpeg or avconv - defaulting to ffmpeg, but may not work\n",
      "  warn(\"Couldn't find ffmpeg or avconv - defaulting to ffmpeg, but may not work\", RuntimeWarning)\n"
     ]
    }
   ],
   "source": [
    "import librosa\n",
    "import librosa.display\n",
    "import numpy as np\n",
    "import matplotlib.pyplot as plt\n",
    "from IPython.display import Audio\n",
    "from pydub import AudioSegment\n",
    "import os\n",
    "import pandas as pd\n",
    "import tensorflow\n",
    "from sklearn.model_selection import train_test_split\n",
    "from sklearn.naive_bayes import GaussianNB\n",
    "from sklearn.metrics import accuracy_score\n",
    "from sklearn.metrics import confusion_matrix\n",
    "import seaborn as sn"
   ]
  },
  {
   "cell_type": "markdown",
   "id": "1b2c066a",
   "metadata": {},
   "source": [
    "Se guardan las rutas de los 2 tipos de audio"
   ]
  },
  {
   "cell_type": "code",
   "execution_count": 6,
   "id": "d28530c0",
   "metadata": {},
   "outputs": [],
   "source": [
    "normal = '/home/ec2-user/SageMaker/ACM/audio normal/'\n",
    "anomalo = '/home/ec2-user/SageMaker/ACM/audio contaminado/'"
   ]
  },
  {
   "cell_type": "markdown",
   "id": "1736f69f",
   "metadata": {},
   "source": [
    "Funcion para obtener el nombre de los archivos de audio"
   ]
  },
  {
   "cell_type": "code",
   "execution_count": 7,
   "id": "4656f990",
   "metadata": {},
   "outputs": [],
   "source": [
    "def contenido_audios():\n",
    "    a = os.listdir(normal)\n",
    "    b = os.listdir(anomalo)\n",
    "    return a,b"
   ]
  },
  {
   "cell_type": "code",
   "execution_count": 8,
   "id": "98c20025",
   "metadata": {},
   "outputs": [],
   "source": [
    "c1,c2 = contenido_audios()"
   ]
  },
  {
   "cell_type": "markdown",
   "id": "1589fc2f",
   "metadata": {},
   "source": [
    "Funcion para obtener los metadatos de audio (File name, Channels, Sample width, Frame rate/Sample rate, Frame width, Length, Intensity) y guardarlos como dataframe\n",
    "\n",
    "contenido: Nombre de los audios, tipo_audio: Etiqueta a la que pertenece (normal, anomalo)"
   ]
  },
  {
   "cell_type": "code",
   "execution_count": 9,
   "id": "bbaa8f1a",
   "metadata": {},
   "outputs": [],
   "source": [
    "def metadatos(contenido,tipo_audio):\n",
    "    df = pd.DataFrame()\n",
    "    df['file name'] = None\n",
    "    df['Channels'] = None\n",
    "    df['Sample width'] = None\n",
    "    df['Frame rate (sample rate)'] = None\n",
    "    df['Frame width'] = None\n",
    "    df['Length (seg)'] = None\n",
    "    df['Frame count'] = None\n",
    "    df['Intensity'] = None\n",
    "    for i in range(len(contenido)):\n",
    "        audio_segment = AudioSegment.from_file(tipo_audio+str(contenido[i]))\n",
    "        df.loc[i] = [contenido[i],audio_segment.channels,audio_segment.sample_width,audio_segment.frame_rate,\n",
    "                        audio_segment.frame_width,len(audio_segment)/1000,audio_segment.frame_count(),\n",
    "                        audio_segment.dBFS]\n",
    "\n",
    "    return df"
   ]
  },
  {
   "cell_type": "markdown",
   "id": "1ab3c258",
   "metadata": {},
   "source": [
    "Se obtienen los metadatos del audio normal y se le agrega al dataframe una columna llamada 'etiqueta' con 'normal'"
   ]
  },
  {
   "cell_type": "code",
   "execution_count": 10,
   "id": "09dc1437",
   "metadata": {},
   "outputs": [],
   "source": [
    "metadatos_audio_normal = metadatos(c1,normal)\n",
    "metadatos_audio_normal = metadatos_audio_normal.assign(etiqueta='normal')"
   ]
  },
  {
   "cell_type": "markdown",
   "id": "2d1912f8",
   "metadata": {},
   "source": [
    "Se obtienen los metadatos del audio contaminado y se le agrega al dataframe una columna llamada 'etiqueta' con 'anomalo'"
   ]
  },
  {
   "cell_type": "code",
   "execution_count": 11,
   "id": "08fda9f9",
   "metadata": {},
   "outputs": [],
   "source": [
    "metadatos_audio_anomalo = metadatos(c2,anomalo)\n",
    "metadatos_audio_anomalo = metadatos_audio_anomalo.assign(etiqueta='anomalo')"
   ]
  },
  {
   "cell_type": "markdown",
   "id": "01262299",
   "metadata": {},
   "source": [
    "Se juntan los 2 dataframes"
   ]
  },
  {
   "cell_type": "code",
   "execution_count": 12,
   "id": "5bc5ba71",
   "metadata": {},
   "outputs": [],
   "source": [
    "metadatos = pd.concat([metadatos_audio_normal, metadatos_audio_anomalo], axis=0, ignore_index=True)"
   ]
  },
  {
   "cell_type": "markdown",
   "id": "715b8dcc",
   "metadata": {},
   "source": [
    "Preprocesamiento: Se escoge el Frame_size, HOP_LENGTH, WINDOW\n",
    "\n",
    "Ademas se deja el sample rate fijo"
   ]
  },
  {
   "cell_type": "code",
   "execution_count": 13,
   "id": "73b6ca16",
   "metadata": {},
   "outputs": [],
   "source": [
    "Frame_size = 1024\n",
    "HOP_LENGTH = 512 \n",
    "WINDOW = 'hann'\n",
    "SR = 44100"
   ]
  },
  {
   "cell_type": "markdown",
   "id": "f4a81225",
   "metadata": {},
   "source": [
    "Funcion donde se carga el audio, se obtiene la stft y el espectrograma, y se calcula la media de cada fila del espectrograma, luego se guarda en un dataframe"
   ]
  },
  {
   "cell_type": "code",
   "execution_count": 14,
   "id": "9c08f22c",
   "metadata": {},
   "outputs": [],
   "source": [
    "def feature(contenido,tipo_audio):\n",
    "    df = pd.DataFrame()\n",
    "    df['file name'] = None\n",
    "    df['y'] = None\n",
    "    df['stft'] = None\n",
    "    df['Espectrograma'] = None\n",
    "    df['Espectrograma scaled'] = None\n",
    "    for i in range(len(contenido)):\n",
    "        y, sr = librosa.load(tipo_audio+str(contenido[i]),sr=SR,mono=True)\n",
    "        stft = librosa.stft(y,n_fft=Frame_size,hop_length=HOP_LENGTH,window=WINDOW)\n",
    "        espectrograma = np.abs(stft)**2\n",
    "        espectrograma_scaled = np.mean(espectrograma.T,axis=0)\n",
    "        df.loc[i] = [contenido[i],y,stft,espectrograma,espectrograma_scaled]\n",
    "    return df"
   ]
  },
  {
   "cell_type": "markdown",
   "id": "ce0689db",
   "metadata": {},
   "source": [
    "Funcion para escuchar un archivo de audio"
   ]
  },
  {
   "cell_type": "code",
   "execution_count": 15,
   "id": "65d0ffae",
   "metadata": {},
   "outputs": [],
   "source": [
    "def escuchar_audio(y,sr):\n",
    "    audio = Audio(data=y, rate=sr)\n",
    "    return audio"
   ]
  },
  {
   "cell_type": "markdown",
   "id": "9c4b7a76",
   "metadata": {},
   "source": [
    "Funcion para graficar la forma de onda (waveform)"
   ]
  },
  {
   "cell_type": "code",
   "execution_count": 16,
   "id": "0021e0f2",
   "metadata": {},
   "outputs": [],
   "source": [
    "def plot_waveform(y,sr):\n",
    "    plt.figure(figsize = (15, 10))\n",
    "    librosa.display.waveshow(y=y, sr=sr)\n",
    "    plt.xlabel('Tiempo', fontsize = 15)\n",
    "    plt.ylabel('Amplitud', fontsize = 15)\n",
    "    plt.show()"
   ]
  },
  {
   "cell_type": "markdown",
   "id": "e66766db",
   "metadata": {},
   "source": [
    "Funcion para graficar el espectrograma (spectrogram) en escala logaritmica"
   ]
  },
  {
   "cell_type": "code",
   "execution_count": 17,
   "id": "5bd01d89",
   "metadata": {},
   "outputs": [],
   "source": [
    "def plot_spectrogram(spectrogram,hop_length,sr):\n",
    "    plt.figure(figsize = (15, 10))\n",
    "    D = librosa.power_to_db(spectrogram)\n",
    "    librosa.display.specshow(D,sr=sr,hop_length=hop_length,y_axis='log',x_axis='time')\n",
    "    plt.colorbar(format='%+2.f')\n",
    "    plt.show()"
   ]
  },
  {
   "cell_type": "markdown",
   "id": "623e1121",
   "metadata": {},
   "source": [
    "Utilizamos la funcion feature en el audio normal y al dataframe le agregamos la columna llamada 'etiqueta' con 0"
   ]
  },
  {
   "cell_type": "code",
   "execution_count": 18,
   "id": "959c7d16",
   "metadata": {},
   "outputs": [],
   "source": [
    "df_audio_normal = feature(c1,normal)\n",
    "df_audio_normal = df_audio_normal.assign(etiqueta=0)"
   ]
  },
  {
   "cell_type": "markdown",
   "id": "ddf8fb64",
   "metadata": {},
   "source": [
    "Utilizamos la funcion feature en el audio anomalo y al dataframe le agregamos la columna llamada 'etiqueta' con 1"
   ]
  },
  {
   "cell_type": "code",
   "execution_count": 19,
   "id": "f19b5951",
   "metadata": {},
   "outputs": [],
   "source": [
    "df_audio_anomalo = feature(c2,anomalo)\n",
    "df_audio_anomalo = df_audio_anomalo.assign(etiqueta=1)"
   ]
  },
  {
   "cell_type": "markdown",
   "id": "a8dd034b",
   "metadata": {},
   "source": [
    "Juntamos los 2 dataframes"
   ]
  },
  {
   "cell_type": "code",
   "execution_count": 88,
   "id": "c63e0aa5",
   "metadata": {},
   "outputs": [],
   "source": [
    "df_audios = pd.concat([df_audio_normal, df_audio_anomalo], axis=0,ignore_index=True)"
   ]
  },
  {
   "cell_type": "code",
   "execution_count": 89,
   "id": "8ae08820",
   "metadata": {},
   "outputs": [],
   "source": [
    "X=np.array(df_audios['Espectrograma scaled'].tolist())\n",
    "y=np.array(df_audios['etiqueta'].tolist())"
   ]
  },
  {
   "cell_type": "code",
   "execution_count": 90,
   "id": "81a9ded8",
   "metadata": {},
   "outputs": [],
   "source": [
    "X_train,X_test,y_train,y_test=train_test_split(X,y,test_size=0.25,random_state=1,stratify=y)"
   ]
  },
  {
   "cell_type": "markdown",
   "id": "b4a75c55",
   "metadata": {},
   "source": [
    "Utilizamos gaussian naive bayes"
   ]
  },
  {
   "cell_type": "code",
   "execution_count": 65,
   "id": "a3f50d35",
   "metadata": {},
   "outputs": [],
   "source": [
    "gnb = GaussianNB(var_smoothing=1e-19)\n",
    "gnb.fit(X_train, y_train)\n",
    "y_pred = gnb.predict(X_test)"
   ]
  },
  {
   "cell_type": "markdown",
   "id": "71ae74e0",
   "metadata": {},
   "source": [
    "Calculamos la exactitud (accuracy)"
   ]
  },
  {
   "cell_type": "code",
   "execution_count": 66,
   "id": "96486d69",
   "metadata": {},
   "outputs": [
    {
     "name": "stdout",
     "output_type": "stream",
     "text": [
      "Accuracy: 0.98\n"
     ]
    }
   ],
   "source": [
    "accuracy = accuracy_score(y_test,y_pred)\n",
    "print(\"Accuracy:\",accuracy)"
   ]
  },
  {
   "cell_type": "markdown",
   "id": "1262eb4b",
   "metadata": {},
   "source": [
    "Obtenemos la matriz de confusion"
   ]
  },
  {
   "cell_type": "code",
   "execution_count": 67,
   "id": "49f08d4e",
   "metadata": {},
   "outputs": [
    {
     "data": {
      "image/png": "[encoded data removed]",
      "text/plain": [
       "<Figure size 432x288 with 2 Axes>"
      ]
     },
     "metadata": {},
     "output_type": "display_data"
    }
   ],
   "source": [
    "matrix = confusion_matrix(y_test, y_pred)\n",
    "matriz = pd.DataFrame(matrix,range(2),range(2))\n",
    "#plt.figure(figsize=(10,10))\n",
    "sn.set(font_scale=1.4) # for label size\n",
    "sn.heatmap(matriz, annot=True, annot_kws={\"size\": 16}) # font size\n",
    "plt.savefig('matriz de confusion.png')\n",
    "\n",
    "plt.show()"
   ]
  },
  {
   "cell_type": "code",
   "execution_count": null,
   "id": "db808171",
   "metadata": {},
   "outputs": [],
   "source": []
  },
  {
   "cell_type": "code",
   "execution_count": null,
   "id": "b52fdad2",
   "metadata": {},
   "outputs": [],
   "source": []
  }
 ],
 "metadata": {
  "kernelspec": {
   "display_name": "conda_amazonei_tensorflow2_p36",
   "language": "python",
   "name": "conda_amazonei_tensorflow2_p36"
  },
  "language_info": {
   "codemirror_mode": {
    "name": "ipython",
    "version": 3
   },
   "file_extension": ".py",
   "mimetype": "text/x-python",
   "name": "python",
   "nbconvert_exporter": "python",
   "pygments_lexer": "ipython3",
   "version": "3.6.13"
  }
 },
 "nbformat": 4,
 "nbformat_minor": 5
}
