{
 "cells": [
  {
   "cell_type": "code",
   "execution_count": 5,
   "id": "c94d0b6c",
   "metadata": {},
   "outputs": [],
   "source": [
    "#!pip install --upgrade pip"
   ]
  },
  {
   "cell_type": "code",
   "execution_count": 6,
   "id": "b65c2506",
   "metadata": {},
   "outputs": [],
   "source": [
    "#!pip install librosa"
   ]
  },
  {
   "cell_type": "code",
   "execution_count": 7,
   "id": "1a563c93",
   "metadata": {},
   "outputs": [],
   "source": [
    "#!pip install pydub"
   ]
  },
  {
   "cell_type": "code",
   "execution_count": 8,
   "id": "c819549d",
   "metadata": {},
   "outputs": [],
   "source": [
    "#!pip install ffmpeg"
   ]
  },
  {
   "cell_type": "code",
   "execution_count": 5,
   "id": "75dc60b2",
   "metadata": {},
   "outputs": [
    {
     "name": "stderr",
     "output_type": "stream",
     "text": [
      "/home/ec2-user/anaconda3/envs/amazonei_tensorflow2_p36/lib/python3.6/site-packages/pydub/utils.py:170: RuntimeWarning: Couldn't find ffmpeg or avconv - defaulting to ffmpeg, but may not work\n",
      "  warn(\"Couldn't find ffmpeg or avconv - defaulting to ffmpeg, but may not work\", RuntimeWarning)\n"
     ]
    }
   ],
   "source": [
    "import librosa\n",
    "import librosa.display\n",
    "import numpy as np\n",
    "import matplotlib.pyplot as plt\n",
    "from IPython.display import Audio\n",
    "from pydub import AudioSegment\n",
    "import os\n",
    "import pandas as pd\n",
    "import tensorflow\n",
    "from sklearn.model_selection import train_test_split\n",
    "from sklearn.naive_bayes import GaussianNB\n",
    "from sklearn.metrics import accuracy_score\n",
    "from sklearn.metrics import confusion_matrix\n",
    "import seaborn as sn"
   ]
  },
  {
   "cell_type": "markdown",
   "id": "bf3c082f",
   "metadata": {},
   "source": [
    "Se guardan las rutas de los 2 tipos de audio"
   ]
  },
  {
   "cell_type": "code",
   "execution_count": 6,
   "id": "0dcb8234",
   "metadata": {},
   "outputs": [],
   "source": [
    "normal = '/home/ec2-user/SageMaker/ACM/audio normal/'\n",
    "anomalo = '/home/ec2-user/SageMaker/ACM/audio contaminado/'"
   ]
  },
  {
   "cell_type": "markdown",
   "id": "0db5ac61",
   "metadata": {},
   "source": [
    "Funcion para obtener el nombre de los archivos de audio"
   ]
  },
  {
   "cell_type": "code",
   "execution_count": 7,
   "id": "273707b3",
   "metadata": {},
   "outputs": [],
   "source": [
    "def contenido_audios():\n",
    "    a = os.listdir(normal)\n",
    "    b = os.listdir(anomalo)\n",
    "    return a,b"
   ]
  },
  {
   "cell_type": "code",
   "execution_count": 8,
   "id": "2f04ea98",
   "metadata": {},
   "outputs": [],
   "source": [
    "c1,c2 = contenido_audios()"
   ]
  },
  {
   "cell_type": "markdown",
   "id": "3286bdfd",
   "metadata": {},
   "source": [
    "Funcion para obtener los metadatos de audio (File name, Channels, Sample width, Frame rate/Sample rate, Frame width, Length, Intensity) y guardarlos como dataframe\n",
    "\n",
    "contenido: Nombre de los audios, tipo_audio: Etiqueta a la que pertenece (normal, anomalo)"
   ]
  },
  {
   "cell_type": "code",
   "execution_count": 9,
   "id": "18411cf1",
   "metadata": {},
   "outputs": [],
   "source": [
    "def metadatos(contenido,tipo_audio):\n",
    "    df = pd.DataFrame()\n",
    "    df['file name'] = None\n",
    "    df['Channels'] = None\n",
    "    df['Sample width'] = None\n",
    "    df['Frame rate (sample rate)'] = None\n",
    "    df['Frame width'] = None\n",
    "    df['Length (seg)'] = None\n",
    "    df['Frame count'] = None\n",
    "    df['Intensity'] = None\n",
    "    for i in range(len(contenido)):\n",
    "        audio_segment = AudioSegment.from_file(tipo_audio+str(contenido[i]))\n",
    "        df.loc[i] = [contenido[i],audio_segment.channels,audio_segment.sample_width,audio_segment.frame_rate,\n",
    "                        audio_segment.frame_width,len(audio_segment)/1000,audio_segment.frame_count(),\n",
    "                        audio_segment.dBFS]\n",
    "\n",
    "    return df"
   ]
  },
  {
   "cell_type": "markdown",
   "id": "61effdb0",
   "metadata": {},
   "source": [
    "Se obtienen los metadatos del audio normal y se le agrega al dataframe una columna llamada 'etiqueta' con 'normal'"
   ]
  },
  {
   "cell_type": "code",
   "execution_count": 10,
   "id": "f1fbbd9b",
   "metadata": {},
   "outputs": [],
   "source": [
    "metadatos_audio_normal = metadatos(c1,normal)\n",
    "metadatos_audio_normal = metadatos_audio_normal.assign(etiqueta='normal')"
   ]
  },
  {
   "cell_type": "markdown",
   "id": "aca1a02c",
   "metadata": {},
   "source": [
    "Se obtienen los metadatos del audio contaminado y se le agrega al dataframe una columna llamada 'etiqueta' con 'anomalo'"
   ]
  },
  {
   "cell_type": "code",
   "execution_count": 11,
   "id": "cc359d6d",
   "metadata": {},
   "outputs": [],
   "source": [
    "metadatos_audio_anomalo = metadatos(c2,anomalo)\n",
    "metadatos_audio_anomalo = metadatos_audio_anomalo.assign(etiqueta='anomalo')"
   ]
  },
  {
   "cell_type": "markdown",
   "id": "e55676f1",
   "metadata": {},
   "source": [
    "Se juntan los 2 dataframes"
   ]
  },
  {
   "cell_type": "code",
   "execution_count": 12,
   "id": "3389fb2e",
   "metadata": {},
   "outputs": [],
   "source": [
    "metadatos = pd.concat([metadatos_audio_normal, metadatos_audio_anomalo], axis=0, ignore_index=True)"
   ]
  },
  {
   "cell_type": "markdown",
   "id": "cb3c905d",
   "metadata": {},
   "source": [
    "Preprocesamiento: Se escoge el Frame_size, HOP_LENGTH, WINDOW\n",
    "\n",
    "Ademas se deja el sample rate fijo"
   ]
  },
  {
   "cell_type": "code",
   "execution_count": 13,
   "id": "d2c63b67",
   "metadata": {},
   "outputs": [],
   "source": [
    "Frame_size = 1024\n",
    "HOP_LENGTH = 512 \n",
    "WINDOW = 'hann'\n",
    "SR = 44100"
   ]
  },
  {
   "cell_type": "markdown",
   "id": "85a64272",
   "metadata": {},
   "source": [
    "Funcion donde se carga el audio, se obtiene la stft y el espectrograma, y se calcula la media de cada fila del espectrograma, luego se guarda en un dataframe"
   ]
  },
  {
   "cell_type": "code",
   "execution_count": 14,
   "id": "b67a4373",
   "metadata": {},
   "outputs": [],
   "source": [
    "def feature(contenido,tipo_audio):\n",
    "    df = pd.DataFrame()\n",
    "    df['file name'] = None\n",
    "    df['y'] = None\n",
    "    df['stft'] = None\n",
    "    df['Espectrograma'] = None\n",
    "    df['Espectrograma scaled'] = None\n",
    "    for i in range(len(contenido)):\n",
    "        y, sr = librosa.load(tipo_audio+str(contenido[i]),sr=SR,mono=True)\n",
    "        stft = librosa.stft(y,n_fft=Frame_size,hop_length=HOP_LENGTH,window=WINDOW)\n",
    "        espectrograma = np.abs(stft)**2\n",
    "        espectrograma_scaled = np.mean(espectrograma.T,axis=0)\n",
    "        df.loc[i] = [contenido[i],y,stft,espectrograma,espectrograma_scaled]\n",
    "    return df"
   ]
  },
  {
   "cell_type": "markdown",
   "id": "f6d12aa3",
   "metadata": {},
   "source": [
    "Funcion para escuchar un archivo de audio"
   ]
  },
  {
   "cell_type": "code",
   "execution_count": 15,
   "id": "f291240e",
   "metadata": {},
   "outputs": [],
   "source": [
    "def escuchar_audio(y,sr):\n",
    "    audio = Audio(data=y, rate=sr)\n",
    "    return audio"
   ]
  },
  {
   "cell_type": "markdown",
   "id": "63d7a401",
   "metadata": {},
   "source": [
    "Funcion para graficar la forma de onda (waveform)"
   ]
  },
  {
   "cell_type": "code",
   "execution_count": 16,
   "id": "6e5edda1",
   "metadata": {},
   "outputs": [],
   "source": [
    "def plot_waveform(y,sr):\n",
    "    plt.figure(figsize = (15, 10))\n",
    "    librosa.display.waveshow(y=y, sr=sr)\n",
    "    plt.xlabel('Tiempo', fontsize = 15)\n",
    "    plt.ylabel('Amplitud', fontsize = 15)\n",
    "    plt.show()"
   ]
  },
  {
   "cell_type": "markdown",
   "id": "4b6f6333",
   "metadata": {},
   "source": [
    "Funcion para graficar el espectrograma (spectrogram) en escala logaritmica"
   ]
  },
  {
   "cell_type": "code",
   "execution_count": 17,
   "id": "e595135e",
   "metadata": {},
   "outputs": [],
   "source": [
    "def plot_spectrogram(spectrogram,hop_length,sr):\n",
    "    plt.figure(figsize = (15, 10))\n",
    "    D = librosa.power_to_db(spectrogram)\n",
    "    librosa.display.specshow(D,sr=sr,hop_length=hop_length,y_axis='log',x_axis='time')\n",
    "    plt.colorbar(format='%+2.f')\n",
    "    plt.show()"
   ]
  },
  {
   "cell_type": "markdown",
   "id": "be3c6274",
   "metadata": {},
   "source": [
    "Utilizamos la funcion feature en el audio normal y al dataframe le agregamos la columna llamada 'etiqueta' con 0"
   ]
  },
  {
   "cell_type": "code",
   "execution_count": 18,
   "id": "8e6d5d82",
   "metadata": {},
   "outputs": [],
   "source": [
    "df_audio_normal = feature(c1,normal)\n",
    "df_audio_normal = df_audio_normal.assign(etiqueta=0)"
   ]
  },
  {
   "cell_type": "markdown",
   "id": "94d0d65c",
   "metadata": {},
   "source": [
    "Utilizamos la funcion feature en el audio anomalo y al dataframe le agregamos la columna llamada 'etiqueta' con 1"
   ]
  },
  {
   "cell_type": "code",
   "execution_count": 19,
   "id": "99af49e9",
   "metadata": {},
   "outputs": [],
   "source": [
    "df_audio_anomalo = feature(c2,anomalo)\n",
    "df_audio_anomalo = df_audio_anomalo.assign(etiqueta=1)"
   ]
  },
  {
   "cell_type": "markdown",
   "id": "dc605b6c",
   "metadata": {},
   "source": [
    "Juntamos los 2 dataframes"
   ]
  },
  {
   "cell_type": "code",
   "execution_count": 88,
   "id": "cbfd5710",
   "metadata": {},
   "outputs": [],
   "source": [
    "df_audios = pd.concat([df_audio_normal, df_audio_anomalo], axis=0,ignore_index=True)"
   ]
  },
  {
   "cell_type": "code",
   "execution_count": 89,
   "id": "9fc6635d",
   "metadata": {},
   "outputs": [],
   "source": [
    "X=np.array(df_audios['Espectrograma scaled'].tolist())\n",
    "y=np.array(df_audios['etiqueta'].tolist())"
   ]
  },
  {
   "cell_type": "code",
   "execution_count": 90,
   "id": "ee36fd24",
   "metadata": {},
   "outputs": [],
   "source": [
    "X_train,X_test,y_train,y_test=train_test_split(X,y,test_size=0.25,random_state=1,stratify=y)"
   ]
  },
  {
   "cell_type": "markdown",
   "id": "8910c557",
   "metadata": {},
   "source": [
    "Utilizamos gaussian naive bayes"
   ]
  },
  {
   "cell_type": "code",
   "execution_count": 65,
   "id": "f136ac51",
   "metadata": {},
   "outputs": [],
   "source": [
    "gnb = GaussianNB(var_smoothing=1e-19)\n",
    "gnb.fit(X_train, y_train)\n",
    "y_pred = gnb.predict(X_test)"
   ]
  },
  {
   "cell_type": "markdown",
   "id": "a3ebc386",
   "metadata": {},
   "source": [
    "Calculamos la exactitud (accuracy)"
   ]
  },
  {
   "cell_type": "code",
   "execution_count": 66,
   "id": "5388bcdb",
   "metadata": {},
   "outputs": [
    {
     "name": "stdout",
     "output_type": "stream",
     "text": [
      "Accuracy: 0.98\n"
     ]
    }
   ],
   "source": [
    "accuracy = accuracy_score(y_test,y_pred)\n",
    "print(\"Accuracy:\",accuracy)"
   ]
  },
  {
   "cell_type": "markdown",
   "id": "fec83448",
   "metadata": {},
   "source": [
    "Obtenemos la matriz de confusion"
   ]
  },
  {
   "cell_type": "code",
   "execution_count": 67,
   "id": "01f9eb38",
   "metadata": {},
   "outputs": [
    {
     "data": {
      "image/png": "[encoded data removed]",
      "text/plain": [
       "<Figure size 432x288 with 2 Axes>"
      ]
     },
     "metadata": {},
     "output_type": "display_data"
    }
   ],
   "source": [
    "matrix = confusion_matrix(y_test, y_pred)\n",
    "matriz = pd.DataFrame(matrix,range(2),range(2))\n",
    "#plt.figure(figsize=(10,10))\n",
    "sn.set(font_scale=1.4) # for label size\n",
    "sn.heatmap(matriz, annot=True, annot_kws={\"size\": 16}) # font size\n",
    "plt.savefig('matriz de confusion.png')\n",
    "\n",
    "plt.show()"
   ]
  },
  {
   "cell_type": "code",
   "execution_count": null,
   "id": "f84b3220",
   "metadata": {},
   "outputs": [],
   "source": []
  },
  {
   "cell_type": "code",
   "execution_count": null,
   "id": "81d7189e",
   "metadata": {},
   "outputs": [],
   "source": []
  }
 ],
 "metadata": {
  "kernelspec": {
   "display_name": "conda_amazonei_tensorflow2_p36",
   "language": "python",
   "name": "conda_amazonei_tensorflow2_p36"
  },
  "language_info": {
   "codemirror_mode": {
    "name": "ipython",
    "version": 3
   },
   "file_extension": ".py",
   "mimetype": "text/x-python",
   "name": "python",
   "nbconvert_exporter": "python",
   "pygments_lexer": "ipython3",
   "version": "3.6.13"
  }
 },
 "nbformat": 4,
 "nbformat_minor": 5
}
