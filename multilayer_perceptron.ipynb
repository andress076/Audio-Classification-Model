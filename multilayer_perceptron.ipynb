{
 "cells": [
  {
   "cell_type": "code",
   "execution_count": 1,
   "id": "c9aa1093",
   "metadata": {},
   "outputs": [
    {
     "name": "stdout",
     "output_type": "stream",
     "text": [
      "Looking in indexes: https://pypi.org/simple, https://pip.repos.neuron.amazonaws.com\n",
      "Requirement already satisfied: pip in /home/ec2-user/anaconda3/envs/amazonei_tensorflow2_p36/lib/python3.6/site-packages (21.3.1)\n"
     ]
    }
   ],
   "source": [
    "!pip install --upgrade pip"
   ]
  },
  {
   "cell_type": "code",
   "execution_count": 2,
   "id": "36102819",
   "metadata": {},
   "outputs": [
    {
     "name": "stdout",
     "output_type": "stream",
     "text": [
      "Looking in indexes: https://pypi.org/simple, https://pip.repos.neuron.amazonaws.com\n",
      "Collecting librosa\n",
      "  Using cached librosa-0.9.2-py3-none-any.whl (214 kB)\n",
      "Requirement already satisfied: numba>=0.45.1 in /home/ec2-user/anaconda3/envs/amazonei_tensorflow2_p36/lib/python3.6/site-packages (from librosa) (0.52.0)\n",
      "Requirement already satisfied: scikit-learn>=0.19.1 in /home/ec2-user/anaconda3/envs/amazonei_tensorflow2_p36/lib/python3.6/site-packages (from librosa) (0.24.1)\n",
      "Requirement already satisfied: packaging>=20.0 in /home/ec2-user/anaconda3/envs/amazonei_tensorflow2_p36/lib/python3.6/site-packages (from librosa) (21.3)\n",
      "Collecting resampy>=0.2.2\n",
      "  Using cached resampy-0.4.2-py3-none-any.whl (3.1 MB)\n",
      "Requirement already satisfied: joblib>=0.14 in /home/ec2-user/anaconda3/envs/amazonei_tensorflow2_p36/lib/python3.6/site-packages (from librosa) (1.0.1)\n",
      "Requirement already satisfied: numpy>=1.17.0 in /home/ec2-user/anaconda3/envs/amazonei_tensorflow2_p36/lib/python3.6/site-packages (from librosa) (1.19.5)\n",
      "Collecting soundfile>=0.10.2\n",
      "  Using cached soundfile-0.11.0-py2.py3-none-any.whl (23 kB)\n",
      "Requirement already satisfied: scipy>=1.2.0 in /home/ec2-user/anaconda3/envs/amazonei_tensorflow2_p36/lib/python3.6/site-packages (from librosa) (1.5.3)\n",
      "Collecting audioread>=2.1.9\n",
      "  Using cached audioread-3.0.0-py3-none-any.whl\n",
      "Collecting pooch>=1.0\n",
      "  Using cached pooch-1.6.0-py3-none-any.whl (56 kB)\n",
      "Requirement already satisfied: decorator>=4.0.10 in /home/ec2-user/anaconda3/envs/amazonei_tensorflow2_p36/lib/python3.6/site-packages (from librosa) (4.4.2)\n",
      "Requirement already satisfied: llvmlite<0.36,>=0.35.0 in /home/ec2-user/anaconda3/envs/amazonei_tensorflow2_p36/lib/python3.6/site-packages (from numba>=0.45.1->librosa) (0.35.0)\n",
      "Requirement already satisfied: setuptools in /home/ec2-user/anaconda3/envs/amazonei_tensorflow2_p36/lib/python3.6/site-packages (from numba>=0.45.1->librosa) (49.6.0.post20210108)\n",
      "Requirement already satisfied: pyparsing!=3.0.5,>=2.0.2 in /home/ec2-user/anaconda3/envs/amazonei_tensorflow2_p36/lib/python3.6/site-packages (from packaging>=20.0->librosa) (2.4.7)\n",
      "Requirement already satisfied: requests>=2.19.0 in /home/ec2-user/anaconda3/envs/amazonei_tensorflow2_p36/lib/python3.6/site-packages (from pooch>=1.0->librosa) (2.27.1)\n",
      "Requirement already satisfied: appdirs>=1.3.0 in /home/ec2-user/anaconda3/envs/amazonei_tensorflow2_p36/lib/python3.6/site-packages (from pooch>=1.0->librosa) (1.4.4)\n",
      "Collecting numba>=0.45.1\n",
      "  Using cached numba-0.53.1-cp36-cp36m-manylinux2014_x86_64.whl (3.4 MB)\n",
      "  Using cached numba-0.53.0-cp36-cp36m-manylinux2014_x86_64.whl (3.4 MB)\n",
      "INFO: pip is looking at multiple versions of resampy to determine which version is compatible with other requirements. This could take a while.\n",
      "Collecting resampy>=0.2.2\n",
      "  Using cached resampy-0.4.1-py3-none-any.whl (3.1 MB)\n",
      "  Using cached resampy-0.4.0-py3-none-any.whl (3.1 MB)\n",
      "  Using cached resampy-0.3.1-py3-none-any.whl (3.1 MB)\n",
      "Requirement already satisfied: threadpoolctl>=2.0.0 in /home/ec2-user/anaconda3/envs/amazonei_tensorflow2_p36/lib/python3.6/site-packages (from scikit-learn>=0.19.1->librosa) (2.1.0)\n",
      "Requirement already satisfied: cffi>=1.0 in /home/ec2-user/anaconda3/envs/amazonei_tensorflow2_p36/lib/python3.6/site-packages (from soundfile>=0.10.2->librosa) (1.14.5)\n",
      "Requirement already satisfied: pycparser in /home/ec2-user/anaconda3/envs/amazonei_tensorflow2_p36/lib/python3.6/site-packages (from cffi>=1.0->soundfile>=0.10.2->librosa) (2.20)\n",
      "Requirement already satisfied: charset-normalizer~=2.0.0 in /home/ec2-user/anaconda3/envs/amazonei_tensorflow2_p36/lib/python3.6/site-packages (from requests>=2.19.0->pooch>=1.0->librosa) (2.0.12)\n",
      "Requirement already satisfied: idna<4,>=2.5 in /home/ec2-user/anaconda3/envs/amazonei_tensorflow2_p36/lib/python3.6/site-packages (from requests>=2.19.0->pooch>=1.0->librosa) (3.1)\n",
      "Requirement already satisfied: certifi>=2017.4.17 in /home/ec2-user/anaconda3/envs/amazonei_tensorflow2_p36/lib/python3.6/site-packages (from requests>=2.19.0->pooch>=1.0->librosa) (2021.5.30)\n",
      "Requirement already satisfied: urllib3<1.27,>=1.21.1 in /home/ec2-user/anaconda3/envs/amazonei_tensorflow2_p36/lib/python3.6/site-packages (from requests>=2.19.0->pooch>=1.0->librosa) (1.26.8)\n",
      "Installing collected packages: soundfile, resampy, pooch, audioread, librosa\n",
      "Successfully installed audioread-3.0.0 librosa-0.9.2 pooch-1.6.0 resampy-0.3.1 soundfile-0.11.0\n"
     ]
    }
   ],
   "source": [
    "!pip install librosa"
   ]
  },
  {
   "cell_type": "code",
   "execution_count": 3,
   "id": "5d05d6f4",
   "metadata": {},
   "outputs": [
    {
     "name": "stdout",
     "output_type": "stream",
     "text": [
      "Looking in indexes: https://pypi.org/simple, https://pip.repos.neuron.amazonaws.com\n",
      "Collecting pydub\n",
      "  Using cached pydub-0.25.1-py2.py3-none-any.whl (32 kB)\n",
      "Installing collected packages: pydub\n",
      "Successfully installed pydub-0.25.1\n"
     ]
    }
   ],
   "source": [
    "!pip install pydub"
   ]
  },
  {
   "cell_type": "code",
   "execution_count": 4,
   "id": "3a50a1e6",
   "metadata": {},
   "outputs": [
    {
     "name": "stdout",
     "output_type": "stream",
     "text": [
      "Looking in indexes: https://pypi.org/simple, https://pip.repos.neuron.amazonaws.com\n",
      "Requirement already satisfied: ffmpeg in /home/ec2-user/anaconda3/envs/amazonei_tensorflow2_p36/lib/python3.6/site-packages (1.4)\n"
     ]
    }
   ],
   "source": [
    "!pip install ffmpeg"
   ]
  },
  {
   "cell_type": "markdown",
   "id": "062f8373",
   "metadata": {},
   "source": [
    "Librerias Utilizadas"
   ]
  },
  {
   "cell_type": "code",
   "execution_count": 5,
   "id": "21eb0f22",
   "metadata": {},
   "outputs": [
    {
     "name": "stderr",
     "output_type": "stream",
     "text": [
      "/home/ec2-user/anaconda3/envs/amazonei_tensorflow2_p36/lib/python3.6/site-packages/pydub/utils.py:170: RuntimeWarning: Couldn't find ffmpeg or avconv - defaulting to ffmpeg, but may not work\n",
      "  warn(\"Couldn't find ffmpeg or avconv - defaulting to ffmpeg, but may not work\", RuntimeWarning)\n"
     ]
    }
   ],
   "source": [
    "import librosa\n",
    "import librosa.display\n",
    "import numpy as np\n",
    "import matplotlib.pyplot as plt\n",
    "from IPython.display import Audio\n",
    "from pydub import AudioSegment\n",
    "import os\n",
    "import pandas as pd\n",
    "import tensorflow\n",
    "from sklearn.model_selection import train_test_split\n",
    "from tensorflow.keras.utils import to_categorical\n",
    "from tensorflow.keras.models import Sequential\n",
    "from tensorflow.keras.layers import Dense, Activation, Dropout\n",
    "from keras import optimizers\n",
    "from sklearn.metrics import confusion_matrix\n",
    "import seaborn as sn"
   ]
  },
  {
   "cell_type": "markdown",
   "id": "08d71a5c",
   "metadata": {},
   "source": [
    "Se guardan las rutas de los 2 tipos de audio"
   ]
  },
  {
   "cell_type": "code",
   "execution_count": 6,
   "id": "2c50435f",
   "metadata": {},
   "outputs": [],
   "source": [
    "normal = '/home/ec2-user/SageMaker/ACM/audio normal/'\n",
    "anomalo = '/home/ec2-user/SageMaker/ACM/audio contaminado/'"
   ]
  },
  {
   "cell_type": "markdown",
   "id": "74b33860",
   "metadata": {},
   "source": [
    "Funcion para obtener el nombre de los archivos de audio"
   ]
  },
  {
   "cell_type": "code",
   "execution_count": 7,
   "id": "4195d196",
   "metadata": {},
   "outputs": [],
   "source": [
    "def contenido_audios():\n",
    "    a = os.listdir(normal)\n",
    "    b = os.listdir(anomalo)\n",
    "    return a,b"
   ]
  },
  {
   "cell_type": "code",
   "execution_count": 8,
   "id": "4e3723ce",
   "metadata": {},
   "outputs": [],
   "source": [
    "c1,c2 = contenido_audios()"
   ]
  },
  {
   "cell_type": "markdown",
   "id": "d429d759",
   "metadata": {},
   "source": [
    "Funcion para obtener los metadatos de audio (File name, Channels, Sample width, Frame rate/Sample rate, Frame width, Length, Intensity)\n",
    "y guardarlos como dataframe\n",
    "\n",
    "contenido: Nombre de los audios, tipo_audio: Etiqueta a la que pertenece (normal, anomalo)"
   ]
  },
  {
   "cell_type": "code",
   "execution_count": 9,
   "id": "b25b8e3a",
   "metadata": {},
   "outputs": [],
   "source": [
    "def metadatos(contenido,tipo_audio):\n",
    "    df = pd.DataFrame()\n",
    "    df['file name'] = None\n",
    "    df['Channels'] = None\n",
    "    df['Sample width'] = None\n",
    "    df['Frame rate (sample rate)'] = None\n",
    "    df['Frame width'] = None\n",
    "    df['Length (seg)'] = None\n",
    "    df['Frame count'] = None\n",
    "    df['Intensity'] = None\n",
    "    for i in range(len(contenido)):\n",
    "        audio_segment = AudioSegment.from_file(tipo_audio+str(contenido[i]))\n",
    "        df.loc[i] = [contenido[i],audio_segment.channels,audio_segment.sample_width,audio_segment.frame_rate,\n",
    "                        audio_segment.frame_width,len(audio_segment)/1000,audio_segment.frame_count(),\n",
    "                        audio_segment.dBFS]\n",
    "\n",
    "    return df"
   ]
  },
  {
   "cell_type": "markdown",
   "id": "bb7766dc",
   "metadata": {},
   "source": [
    "Se obtienen los metadatos del audio normal y se le agrega al dataframe una columna llamada etiqueta con 'normal'"
   ]
  },
  {
   "cell_type": "code",
   "execution_count": 10,
   "id": "ac589f1d",
   "metadata": {},
   "outputs": [],
   "source": [
    "metadatos_audio_normal = metadatos(c1,normal)\n",
    "metadatos_audio_normal = metadatos_audio_normal.assign(etiqueta='normal')"
   ]
  },
  {
   "cell_type": "markdown",
   "id": "d2b9dccb",
   "metadata": {},
   "source": [
    "Se obtienen los metadatos del audio contaminado y se le agrega al dataframe una columna llamada etiqueta con 'anomalo'"
   ]
  },
  {
   "cell_type": "code",
   "execution_count": 11,
   "id": "8dfa1a1d",
   "metadata": {},
   "outputs": [],
   "source": [
    "metadatos_audio_anomalo = metadatos(c2,anomalo)\n",
    "metadatos_audio_anomalo = metadatos_audio_anomalo.assign(etiqueta='anomalo')"
   ]
  },
  {
   "cell_type": "markdown",
   "id": "b2b10a93",
   "metadata": {},
   "source": [
    "Se juntan los 2 dataframes"
   ]
  },
  {
   "cell_type": "code",
   "execution_count": 12,
   "id": "a8d6372a",
   "metadata": {},
   "outputs": [],
   "source": [
    "metadatos = pd.concat([metadatos_audio_normal, metadatos_audio_anomalo], axis=0, ignore_index=True)"
   ]
  },
  {
   "cell_type": "markdown",
   "id": "47d0cb35",
   "metadata": {},
   "source": [
    "Preprocesamiento: Se elige el Frame_size, HOP_LENGTH, WINDOW\n",
    "\n",
    "Ademas se deja el sample rate fijo"
   ]
  },
  {
   "cell_type": "code",
   "execution_count": 13,
   "id": "2d4faf85",
   "metadata": {},
   "outputs": [],
   "source": [
    "Frame_size = 1024\n",
    "HOP_LENGTH = 512 \n",
    "WINDOW = 'hann'\n",
    "SR = 44100"
   ]
  },
  {
   "cell_type": "markdown",
   "id": "32086c04",
   "metadata": {},
   "source": [
    "Funcion donde se carga el audio, se obtiene la stft y el espectrograma, y se calcula la media de cada fila del espectrograma, luego se guarda en un dataframe"
   ]
  },
  {
   "cell_type": "code",
   "execution_count": 14,
   "id": "cf5f7c4e",
   "metadata": {},
   "outputs": [],
   "source": [
    "def feature(contenido,tipo_audio):\n",
    "    df = pd.DataFrame()\n",
    "    df['file name'] = None\n",
    "    df['y'] = None\n",
    "    df['stft'] = None\n",
    "    df['Espectrograma'] = None\n",
    "    df['Espectrograma scaled'] = None\n",
    "    for i in range(len(contenido)):\n",
    "        y, sr = librosa.load(tipo_audio+str(contenido[i]),sr=SR,mono=True)\n",
    "        stft = librosa.stft(y,n_fft=Frame_size,hop_length=HOP_LENGTH,window=WINDOW)\n",
    "        espectrograma = np.abs(stft)**2\n",
    "        espectrograma_scaled = np.mean(espectrograma.T,axis=0)\n",
    "        df.loc[i] = [contenido[i],y,stft,espectrograma,espectrograma_scaled]\n",
    "    return df"
   ]
  },
  {
   "cell_type": "markdown",
   "id": "59a8a204",
   "metadata": {},
   "source": [
    "Funcion para escuchar un archivo de audio"
   ]
  },
  {
   "cell_type": "code",
   "execution_count": 15,
   "id": "8c5f358c",
   "metadata": {},
   "outputs": [],
   "source": [
    "def escuchar_audio(y,sr):\n",
    "    audio = Audio(data=y, rate=sr)\n",
    "    return audio"
   ]
  },
  {
   "cell_type": "markdown",
   "id": "b5773d56",
   "metadata": {},
   "source": [
    "Funcion para graficar la forma de onda (waveform)"
   ]
  },
  {
   "cell_type": "code",
   "execution_count": 16,
   "id": "07dff1f8",
   "metadata": {},
   "outputs": [],
   "source": [
    "def plot_waveform(y,sr):\n",
    "    plt.figure(figsize = (15, 10))\n",
    "    librosa.display.waveshow(y=y, sr=sr)\n",
    "    plt.xlabel('Tiempo', fontsize = 15)\n",
    "    plt.ylabel('Amplitud', fontsize = 15)\n",
    "    plt.show()"
   ]
  },
  {
   "cell_type": "markdown",
   "id": "31df77b2",
   "metadata": {},
   "source": [
    "Funcion para graficar el espectrograma (spectrogram) en escala logaritmica"
   ]
  },
  {
   "cell_type": "code",
   "execution_count": 17,
   "id": "75752a14",
   "metadata": {},
   "outputs": [],
   "source": [
    "def plot_spectrogram(spectrogram,hop_length,sr):\n",
    "    plt.figure(figsize = (15, 10))\n",
    "    D = librosa.power_to_db(spectrogram)\n",
    "    librosa.display.specshow(D,sr=sr,hop_length=hop_length,y_axis='log',x_axis='time')\n",
    "    plt.colorbar(format='%+2.f')\n",
    "    plt.show()"
   ]
  },
  {
   "cell_type": "markdown",
   "id": "800d394f",
   "metadata": {},
   "source": [
    "Utilizamos la funcion feature en el audio normal y al dataframe le agregamos la columna llamada 'etiqueta' con 0"
   ]
  },
  {
   "cell_type": "code",
   "execution_count": 18,
   "id": "7c9f950a",
   "metadata": {},
   "outputs": [],
   "source": [
    "df_audio_normal = feature(c1,normal)\n",
    "df_audio_normal = df_audio_normal.assign(etiqueta=0)"
   ]
  },
  {
   "cell_type": "markdown",
   "id": "c2d83faf",
   "metadata": {},
   "source": [
    "Utilizamos la funcion feature en el audio anomalo y al dataframe le agregamos la columna llamada 'etiqueta' con 1"
   ]
  },
  {
   "cell_type": "code",
   "execution_count": 20,
   "id": "fcf41977",
   "metadata": {},
   "outputs": [],
   "source": [
    "df_audio_anomalo = feature(c2,anomalo)\n",
    "df_audio_anomalo = df_audio_anomalo.assign(etiqueta=1)"
   ]
  },
  {
   "cell_type": "markdown",
   "id": "b4aee260",
   "metadata": {},
   "source": [
    "Se juntan los 2 dataframes"
   ]
  },
  {
   "cell_type": "code",
   "execution_count": 21,
   "id": "163ba5a9",
   "metadata": {},
   "outputs": [],
   "source": [
    "df_audios = pd.concat([df_audio_normal, df_audio_anomalo], axis=0,ignore_index=True)"
   ]
  },
  {
   "cell_type": "code",
   "execution_count": 22,
   "id": "ce5b9873",
   "metadata": {},
   "outputs": [],
   "source": [
    "X=np.array(df_audios['Espectrograma scaled'].tolist())\n",
    "y=np.array(df_audios['etiqueta'].tolist())"
   ]
  },
  {
   "cell_type": "code",
   "execution_count": 23,
   "id": "14542551",
   "metadata": {},
   "outputs": [],
   "source": [
    "X_train,X_test,y_train,y_test=train_test_split(X,y,test_size=0.25,random_state=1,stratify=y)"
   ]
  },
  {
   "cell_type": "code",
   "execution_count": 24,
   "id": "a1a5922a",
   "metadata": {},
   "outputs": [],
   "source": [
    "'''Dimensión del espacio de entrada:'''\n",
    "input_size = X_train.shape[1]"
   ]
  },
  {
   "cell_type": "code",
   "execution_count": 25,
   "id": "fbde4350",
   "metadata": {},
   "outputs": [],
   "source": [
    "num_labels = len(np.unique(y_train))"
   ]
  },
  {
   "cell_type": "code",
   "execution_count": 26,
   "id": "d6c871b2",
   "metadata": {},
   "outputs": [],
   "source": [
    "y_train = to_categorical(y_train)\n",
    "y_test = to_categorical(y_test)"
   ]
  },
  {
   "cell_type": "code",
   "execution_count": 27,
   "id": "d2515ce5",
   "metadata": {},
   "outputs": [],
   "source": [
    "'''Hiperparámetros de la red:'''\n",
    "batch_size = 25\n",
    "hidden_units = 16\n",
    "dropout = 0.3\n",
    "epochs = 50"
   ]
  },
  {
   "cell_type": "code",
   "execution_count": 28,
   "id": "80c3e94e",
   "metadata": {},
   "outputs": [
    {
     "name": "stdout",
     "output_type": "stream",
     "text": [
      "Model: \"sequential\"\n",
      "_________________________________________________________________\n",
      "Layer (type)                 Output Shape              Param #   \n",
      "=================================================================\n",
      "dense (Dense)                (None, 16)                8224      \n",
      "_________________________________________________________________\n",
      "activation (Activation)      (None, 16)                0         \n",
      "_________________________________________________________________\n",
      "dropout (Dropout)            (None, 16)                0         \n",
      "_________________________________________________________________\n",
      "dense_1 (Dense)              (None, 2)                 34        \n",
      "_________________________________________________________________\n",
      "activation_1 (Activation)    (None, 2)                 0         \n",
      "=================================================================\n",
      "Total params: 8,258\n",
      "Trainable params: 8,258\n",
      "Non-trainable params: 0\n",
      "_________________________________________________________________\n"
     ]
    }
   ],
   "source": [
    "model = Sequential()\n",
    "model.add(Dense(hidden_units, input_dim= input_size)) \n",
    "model.add(Activation('relu')) \n",
    "model.add(Dropout(dropout)) \n",
    "model.add(Dense(num_labels))\n",
    "model.add(Activation('softmax'))\n",
    "model.summary()"
   ]
  },
  {
   "cell_type": "code",
   "execution_count": 29,
   "id": "b4ed300a",
   "metadata": {},
   "outputs": [],
   "source": [
    "'''Configuración'''\n",
    "model.compile(loss='binary_crossentropy', optimizer='adam', metrics=['accuracy'])"
   ]
  },
  {
   "cell_type": "code",
   "execution_count": 30,
   "id": "4d7ecbc1",
   "metadata": {},
   "outputs": [
    {
     "name": "stdout",
     "output_type": "stream",
     "text": [
      "Epoch 1/50\n",
      "6/6 [==============================] - 0s 56ms/step - loss: 2.7829 - accuracy: 0.5473 - val_loss: 3.5011 - val_accuracy: 0.5200\n",
      "Epoch 2/50\n",
      "6/6 [==============================] - 0s 13ms/step - loss: 2.2809 - accuracy: 0.5338 - val_loss: 0.5555 - val_accuracy: 0.5200\n",
      "Epoch 3/50\n",
      "6/6 [==============================] - 0s 7ms/step - loss: 1.7637 - accuracy: 0.5270 - val_loss: 0.7288 - val_accuracy: 0.5200\n",
      "Epoch 4/50\n",
      "6/6 [==============================] - 0s 9ms/step - loss: 1.4846 - accuracy: 0.5068 - val_loss: 0.7491 - val_accuracy: 0.5200\n",
      "Epoch 5/50\n",
      "6/6 [==============================] - 0s 20ms/step - loss: 1.0176 - accuracy: 0.5203 - val_loss: 0.7649 - val_accuracy: 0.5200\n",
      "Epoch 6/50\n",
      "6/6 [==============================] - 0s 10ms/step - loss: 0.9329 - accuracy: 0.5541 - val_loss: 0.7643 - val_accuracy: 0.5200\n",
      "Epoch 7/50\n",
      "6/6 [==============================] - 0s 7ms/step - loss: 1.0353 - accuracy: 0.5270 - val_loss: 0.7675 - val_accuracy: 0.5200\n",
      "Epoch 8/50\n",
      "6/6 [==============================] - 0s 8ms/step - loss: 1.1728 - accuracy: 0.5405 - val_loss: 0.7637 - val_accuracy: 0.5200\n",
      "Epoch 9/50\n",
      "6/6 [==============================] - 0s 7ms/step - loss: 0.9420 - accuracy: 0.5541 - val_loss: 0.7504 - val_accuracy: 0.5200\n",
      "Epoch 10/50\n",
      "6/6 [==============================] - 0s 7ms/step - loss: 0.7212 - accuracy: 0.5878 - val_loss: 0.7374 - val_accuracy: 0.5200\n",
      "Epoch 11/50\n",
      "6/6 [==============================] - 0s 8ms/step - loss: 0.6803 - accuracy: 0.6081 - val_loss: 0.7229 - val_accuracy: 0.5200\n",
      "Epoch 12/50\n",
      "6/6 [==============================] - 0s 7ms/step - loss: 1.2387 - accuracy: 0.5878 - val_loss: 0.7101 - val_accuracy: 0.5800\n",
      "Epoch 13/50\n",
      "6/6 [==============================] - 0s 8ms/step - loss: 0.8183 - accuracy: 0.5878 - val_loss: 0.7176 - val_accuracy: 0.5400\n",
      "Epoch 14/50\n",
      "6/6 [==============================] - 0s 9ms/step - loss: 0.7491 - accuracy: 0.6486 - val_loss: 0.7168 - val_accuracy: 0.6000\n",
      "Epoch 15/50\n",
      "6/6 [==============================] - 0s 9ms/step - loss: 0.6852 - accuracy: 0.6081 - val_loss: 0.7275 - val_accuracy: 0.6000\n",
      "Epoch 16/50\n",
      "6/6 [==============================] - 0s 8ms/step - loss: 0.8849 - accuracy: 0.6081 - val_loss: 0.7247 - val_accuracy: 0.6000\n",
      "Epoch 17/50\n",
      "6/6 [==============================] - 0s 8ms/step - loss: 0.5686 - accuracy: 0.6351 - val_loss: 0.7146 - val_accuracy: 0.6400\n",
      "Epoch 18/50\n",
      "6/6 [==============================] - 0s 8ms/step - loss: 0.6221 - accuracy: 0.6622 - val_loss: 0.7000 - val_accuracy: 0.6800\n",
      "Epoch 19/50\n",
      "6/6 [==============================] - 0s 9ms/step - loss: 0.5218 - accuracy: 0.6892 - val_loss: 0.6812 - val_accuracy: 0.7000\n",
      "Epoch 20/50\n",
      "6/6 [==============================] - 0s 9ms/step - loss: 0.5765 - accuracy: 0.7027 - val_loss: 0.6674 - val_accuracy: 0.7200\n",
      "Epoch 21/50\n",
      "6/6 [==============================] - 0s 8ms/step - loss: 0.6286 - accuracy: 0.7365 - val_loss: 0.6561 - val_accuracy: 0.7400\n",
      "Epoch 22/50\n",
      "6/6 [==============================] - 0s 10ms/step - loss: 0.5555 - accuracy: 0.7162 - val_loss: 0.6396 - val_accuracy: 0.7800\n",
      "Epoch 23/50\n",
      "6/6 [==============================] - 0s 12ms/step - loss: 0.5318 - accuracy: 0.6892 - val_loss: 0.6304 - val_accuracy: 0.8000\n",
      "Epoch 24/50\n",
      "6/6 [==============================] - 0s 12ms/step - loss: 0.4481 - accuracy: 0.7297 - val_loss: 0.6290 - val_accuracy: 0.8000\n",
      "Epoch 25/50\n",
      "6/6 [==============================] - 0s 12ms/step - loss: 0.4181 - accuracy: 0.7635 - val_loss: 0.6238 - val_accuracy: 0.8000\n",
      "Epoch 26/50\n",
      "6/6 [==============================] - 0s 11ms/step - loss: 0.4912 - accuracy: 0.8243 - val_loss: 0.6132 - val_accuracy: 0.8200\n",
      "Epoch 27/50\n",
      "6/6 [==============================] - 0s 6ms/step - loss: 0.3878 - accuracy: 0.8311 - val_loss: 0.5986 - val_accuracy: 0.8600\n",
      "Epoch 28/50\n",
      "6/6 [==============================] - 0s 5ms/step - loss: 0.3998 - accuracy: 0.8581 - val_loss: 0.6249 - val_accuracy: 0.8000\n",
      "Epoch 29/50\n",
      "6/6 [==============================] - 0s 4ms/step - loss: 0.3856 - accuracy: 0.7905 - val_loss: 0.6402 - val_accuracy: 0.7800\n",
      "Epoch 30/50\n",
      "6/6 [==============================] - 0s 4ms/step - loss: 0.5179 - accuracy: 0.7432 - val_loss: 0.6416 - val_accuracy: 0.7600\n",
      "Epoch 31/50\n",
      "6/6 [==============================] - 0s 10ms/step - loss: 0.4377 - accuracy: 0.7365 - val_loss: 0.6357 - val_accuracy: 0.7800\n",
      "Epoch 32/50\n",
      "6/6 [==============================] - 0s 7ms/step - loss: 0.5104 - accuracy: 0.7432 - val_loss: 0.6259 - val_accuracy: 0.8000\n",
      "Epoch 33/50\n",
      "6/6 [==============================] - 0s 5ms/step - loss: 0.3698 - accuracy: 0.7838 - val_loss: 0.6143 - val_accuracy: 0.8200\n",
      "Epoch 34/50\n",
      "6/6 [==============================] - 0s 9ms/step - loss: 0.3598 - accuracy: 0.8243 - val_loss: 0.6027 - val_accuracy: 0.8200\n",
      "Epoch 35/50\n",
      "6/6 [==============================] - 0s 8ms/step - loss: 0.4138 - accuracy: 0.7905 - val_loss: 0.5906 - val_accuracy: 0.8400\n",
      "Epoch 36/50\n",
      "6/6 [==============================] - 0s 6ms/step - loss: 0.4559 - accuracy: 0.8108 - val_loss: 0.5786 - val_accuracy: 0.9200\n",
      "Epoch 37/50\n",
      "6/6 [==============================] - 0s 7ms/step - loss: 0.3935 - accuracy: 0.8176 - val_loss: 0.5676 - val_accuracy: 0.9600\n",
      "Epoch 38/50\n",
      "6/6 [==============================] - 0s 5ms/step - loss: 0.3078 - accuracy: 0.8716 - val_loss: 0.5571 - val_accuracy: 0.9800\n",
      "Epoch 39/50\n",
      "6/6 [==============================] - 0s 10ms/step - loss: 0.3204 - accuracy: 0.8851 - val_loss: 0.5472 - val_accuracy: 0.9800\n",
      "Epoch 40/50\n",
      "6/6 [==============================] - 0s 11ms/step - loss: 0.4185 - accuracy: 0.8378 - val_loss: 0.5381 - val_accuracy: 0.9800\n",
      "Epoch 41/50\n",
      "6/6 [==============================] - 0s 7ms/step - loss: 0.2973 - accuracy: 0.8716 - val_loss: 0.5297 - val_accuracy: 0.9800\n",
      "Epoch 42/50\n",
      "6/6 [==============================] - 0s 8ms/step - loss: 0.4328 - accuracy: 0.9054 - val_loss: 0.5221 - val_accuracy: 0.9800\n",
      "Epoch 43/50\n",
      "6/6 [==============================] - 0s 7ms/step - loss: 0.4410 - accuracy: 0.9595 - val_loss: 0.5150 - val_accuracy: 0.9800\n",
      "Epoch 44/50\n",
      "6/6 [==============================] - 0s 9ms/step - loss: 0.2858 - accuracy: 0.9662 - val_loss: 0.5086 - val_accuracy: 0.9800\n",
      "Epoch 45/50\n",
      "6/6 [==============================] - 0s 8ms/step - loss: 0.4548 - accuracy: 0.9257 - val_loss: 0.5023 - val_accuracy: 0.9800\n",
      "Epoch 46/50\n",
      "6/6 [==============================] - 0s 5ms/step - loss: 0.3613 - accuracy: 0.9257 - val_loss: 0.4971 - val_accuracy: 0.9800\n",
      "Epoch 47/50\n",
      "6/6 [==============================] - 0s 8ms/step - loss: 0.2505 - accuracy: 0.9527 - val_loss: 0.4915 - val_accuracy: 0.9800\n",
      "Epoch 48/50\n",
      "6/6 [==============================] - 0s 7ms/step - loss: 0.4479 - accuracy: 0.9459 - val_loss: 0.4861 - val_accuracy: 0.9800\n",
      "Epoch 49/50\n",
      "6/6 [==============================] - 0s 5ms/step - loss: 0.2450 - accuracy: 0.9595 - val_loss: 0.4809 - val_accuracy: 0.9800\n",
      "Epoch 50/50\n",
      "6/6 [==============================] - 0s 5ms/step - loss: 0.2297 - accuracy: 0.9730 - val_loss: 0.4756 - val_accuracy: 0.9800\n",
      "CPU times: user 2.37 s, sys: 176 ms, total: 2.55 s\n",
      "Wall time: 7.77 s\n"
     ]
    }
   ],
   "source": [
    "%%time\n",
    "'''Entrenamiento del modelo'''\n",
    "history = model.fit(X_train, y_train, batch_size= batch_size, epochs= epochs, validation_data= (X_test, y_test))"
   ]
  },
  {
   "cell_type": "code",
   "execution_count": 31,
   "id": "cde2eb1f",
   "metadata": {},
   "outputs": [
    {
     "name": "stdout",
     "output_type": "stream",
     "text": [
      "2/2 [==============================] - 0s 4ms/step - loss: 0.4756 - accuracy: 0.9800\n",
      "\n",
      "Test accuracy: 98.0%\n"
     ]
    }
   ],
   "source": [
    "'''Evaluación en el conjunto de testeo'''\n",
    "loss, acc = model.evaluate(X_test, y_test, batch_size=batch_size)\n",
    "print(\"\\nTest accuracy: %.1f%%\" % (100.0 * acc))"
   ]
  },
  {
   "cell_type": "code",
   "execution_count": 32,
   "id": "d9b02d86",
   "metadata": {},
   "outputs": [],
   "source": [
    "predictions = model.predict(X_test)"
   ]
  },
  {
   "cell_type": "code",
   "execution_count": 33,
   "id": "a7e0d30d",
   "metadata": {},
   "outputs": [
    {
     "data": {
      "image/png": "[encoded data removed]",
      "text/plain": [
       "<Figure size 432x288 with 1 Axes>"
      ]
     },
     "metadata": {
      "needs_background": "light"
     },
     "output_type": "display_data"
    }
   ],
   "source": [
    "import matplotlib.pyplot as plt\n",
    "\n",
    "'''Graficamos el desempeño en el conjunto de entrenamiento y testeo:'''\n",
    "plt.plot(history.history['accuracy'])\n",
    "plt.plot(history.history['val_accuracy'])\n",
    "plt.title('Exactitud del modelo')\n",
    "plt.ylabel('Exactitud')\n",
    "plt.xlabel('Épocas')\n",
    "plt.legend(['Entrenamiento', 'Test'], loc='lower right')\n",
    "plt.savefig('exactitud del modelo.jpg')\n",
    "plt.show()"
   ]
  },
  {
   "cell_type": "code",
   "execution_count": 34,
   "id": "60034b99",
   "metadata": {},
   "outputs": [
    {
     "data": {
      "image/png": "[encoded data removed]",
      "text/plain": [
       "<Figure size 432x288 with 1 Axes>"
      ]
     },
     "metadata": {
      "needs_background": "light"
     },
     "output_type": "display_data"
    }
   ],
   "source": [
    "'''Graficamos el comportamiento de la función de pérdida:'''\n",
    "plt.plot(history.history['loss'])\n",
    "plt.plot(history.history['val_loss'])\n",
    "plt.title('Función de Pérdida')\n",
    "plt.ylabel('Valor pérdida')\n",
    "plt.xlabel('Épocas')\n",
    "plt.legend(['Entrenamiento', 'Test'], loc='upper right')\n",
    "plt.savefig('funcion de perdida.jpg')\n",
    "plt.show()"
   ]
  },
  {
   "cell_type": "code",
   "execution_count": 35,
   "id": "c9cf0990",
   "metadata": {},
   "outputs": [],
   "source": [
    "y_pred = (predictions > 0.5).astype(\"int32\")\n",
    "y_pred = np.argmax(y_pred, axis= 1)"
   ]
  },
  {
   "cell_type": "code",
   "execution_count": 36,
   "id": "c1fcfd0d",
   "metadata": {},
   "outputs": [],
   "source": [
    "y_test = np.argmax(y_test, axis= 1)"
   ]
  },
  {
   "cell_type": "code",
   "execution_count": 38,
   "id": "ac77ffc8",
   "metadata": {},
   "outputs": [
    {
     "data": {
      "image/png": "[encoded data removed]",
      "text/plain": [
       "<Figure size 432x288 with 2 Axes>"
      ]
     },
     "metadata": {},
     "output_type": "display_data"
    }
   ],
   "source": [
    "matrix = confusion_matrix(y_test, y_pred)\n",
    "matriz = pd.DataFrame(matrix,range(2),range(2))\n",
    "#plt.figure(figsize=(10,10))\n",
    "sn.set(font_scale=1.4) # for label size\n",
    "sn.heatmap(matriz, annot=True, annot_kws={\"size\": 16}) # font size\n",
    "\n",
    "plt.savefig('matriz de confusion.jpg')\n",
    "plt.show()"
   ]
  },
  {
   "cell_type": "code",
   "execution_count": null,
   "id": "b54937b7",
   "metadata": {},
   "outputs": [],
   "source": []
  }
 ],
 "metadata": {
  "kernelspec": {
   "display_name": "conda_amazonei_tensorflow2_p36",
   "language": "python",
   "name": "conda_amazonei_tensorflow2_p36"
  },
  "language_info": {
   "codemirror_mode": {
    "name": "ipython",
    "version": 3
   },
   "file_extension": ".py",
   "mimetype": "text/x-python",
   "name": "python",
   "nbconvert_exporter": "python",
   "pygments_lexer": "ipython3",
   "version": "3.6.13"
  }
 },
 "nbformat": 4,
 "nbformat_minor": 5
}
